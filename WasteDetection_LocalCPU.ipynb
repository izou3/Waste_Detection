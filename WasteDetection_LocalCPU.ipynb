{
 "cells": [
  {
   "cell_type": "code",
   "execution_count": 2,
   "id": "208c3978",
   "metadata": {},
   "outputs": [
    {
     "data": {
      "text/plain": [
       "False"
      ]
     },
     "execution_count": 2,
     "metadata": {},
     "output_type": "execute_result"
    }
   ],
   "source": [
    "import torch\n",
    "\n",
    "torch.device(\"cpu\")"
   ]
  },
  {
   "cell_type": "code",
   "execution_count": 3,
   "id": "2c604502",
   "metadata": {},
   "outputs": [],
   "source": [
    "# Some basic setup:\n",
    "# Setup detectron2 logger\n",
    "import detectron2\n",
    "from detectron2.utils.logger import setup_logger\n",
    "setup_logger()\n",
    "\n",
    "# import some common libraries\n",
    "import numpy as np\n",
    "\n",
    "# installed opencv via pip in pip install opencv-python\n",
    "import os, json, cv2, random\n",
    "\n",
    "# import some common detectron2 utilities\n",
    "from detectron2 import model_zoo\n",
    "from detectron2.engine import DefaultPredictor\n",
    "from detectron2.utils.visualizer import Visualizer\n",
    "from detectron2.data import MetadataCatalog, DatasetCatalog"
   ]
  },
  {
   "cell_type": "code",
   "execution_count": 4,
   "id": "3664ebf5",
   "metadata": {},
   "outputs": [],
   "source": [
    "from detectron2.data.datasets import register_coco_instances\n",
    "\n",
    "TRAINING_IMG_DIR = \"./images/All_Images\"\n",
    "TRAINING_ANNOTATION_DIR = \"./images/labels_116Images_2021-12-01-06-45-38.json\"\n",
    "\n",
    "register_coco_instances(\"my_dataset_train\", {}, TRAINING_ANNOTATION_DIR, TRAINING_IMG_DIR)"
   ]
  },
  {
   "cell_type": "code",
   "execution_count": 5,
   "id": "7f323a5c",
   "metadata": {},
   "outputs": [],
   "source": [
    "from detectron2.utils.video_visualizer import VideoVisualizer\n",
    "from detectron2.utils.visualizer import ColorMode\n",
    "from detectron2.data import MetadataCatalog\n",
    "from detectron2.config import get_cfg\n",
    "\n",
    "cfg = get_cfg()\n",
    "cfg.merge_from_file(model_zoo.get_config_file(\"COCO-InstanceSegmentation/mask_rcnn_R_50_FPN_3x.yaml\"))\n",
    "cfg.DATASETS.TRAIN = (\"my_dataset_train\",)\n",
    "cfg.DATALOADER.NUM_WORKERS = 2\n",
    "cfg.MODEL.WEIGHTS = model_zoo.get_checkpoint_url(\"COCO-InstanceSegmentation/mask_rcnn_R_50_FPN_3x.yaml\")  # Let training initialize from model zoo\n",
    "cfg.SOLVER.IMS_PER_BATCH = 2\n",
    "cfg.SOLVER.BASE_LR = 0.00025  # pick a good LR\n",
    "cfg.SOLVER.MAX_ITER = 2000    # 300 iterations seems good enough for this toy dataset; you will need to train longer for a practical dataset\n",
    "cfg.SOLVER.STEPS = []        # do not decay learning rate\n",
    "cfg.MODEL.ROI_HEADS.BATCH_SIZE_PER_IMAGE = 128   # faster, and good enough for this toy dataset (default: 512)\n",
    "cfg.MODEL.ROI_HEADS.NUM_CLASSES = 9\n",
    "cfg.OUTPUT_DIR = \"./images\"\n",
    "\n",
    "cfg.MODEL.WEIGHTS = \"./model_final.pth\"\n",
    "cfg.MODEL.ROI_HEADS.SCORE_THRESH_TEST = 0.7\n",
    "cfg.MODEL.DEVICE='cpu'\n",
    "\n",
    "predictor = DefaultPredictor(cfg)\n",
    "\n",
    "# Initialize visualizer\n",
    "my_dataset_train_metadata = MetadataCatalog.get(\"my_dataset_train\")\n",
    "v = VideoVisualizer(my_dataset_train_metadata, ColorMode.IMAGE)"
   ]
  },
  {
   "cell_type": "code",
   "execution_count": null,
   "id": "21f66e9d",
   "metadata": {},
   "outputs": [],
   "source": [
    "video_path = r\"D:\\West_Village_Waste_Footage\\11-16-2021\\Front-Trash-Can\\2021\\11\\16\\Val7.h264\"\n",
    "MASKRCNN_MODEL = r\"C:\\Users\\IvanZou\\OneDrive\\Documents\\OpenCV_Python3\\Waste_Detection\\weights\"\n",
    "\n",
    "cap = cv2.VideoCapture(video_path)\n",
    "\n",
    "if cap.isOpened():\n",
    "    width = int(cap.get(cv2.CAP_PROP_FRAME_WIDTH))\n",
    "    height = int(cap.get(cv2.CAP_PROP_FRAME_HEIGHT))\n",
    "    fps = cap.get(cv2.CAP_PROP_FPS)\n",
    "\n",
    "    res=(int(width), int(height))\n",
    "    videowriter = cv2.VideoWriter('MyOutputVid.avi', cv2.VideoWriter_fourcc('I','4','2','0'), fps, res)\n",
    "\n",
    "    frame = None\n",
    "    counter = 0\n",
    "\n",
    "    while True:\n",
    "        try:\n",
    "            is_success, frame = cap.read()\n",
    "        except cv2.error:\n",
    "            continue\n",
    "\n",
    "        if not is_success:\n",
    "            break\n",
    "\n",
    "        # Write image to video writer\n",
    "        outputs = predictor(frame)\n",
    "        frame = cv2.cvtColor(frame, cv2.COLOR_BGR2RGB)\n",
    "        \n",
    "        visualization = v.draw_instance_predictions(frame, outputs[\"instances\"])\n",
    "        visualization = cv2.cvtColor(visualization.get_image(), cv2.COLOR_RGB2BGR)\n",
    "        videowriter.write(visualization)\n",
    "\n",
    "        if counter > 2000: \n",
    "          break\n",
    "\n",
    "        counter = counter + 1\n",
    "\n",
    "    videowriter.release() \n",
    "\n",
    "    # Show last image\n",
    "\n",
    "    cv2_imshow(visualization)\n",
    "\n",
    "cap.release()"
   ]
  }
 ],
 "metadata": {
  "kernelspec": {
   "display_name": "Python 3 (ipykernel)",
   "language": "python",
   "name": "python3"
  },
  "language_info": {
   "codemirror_mode": {
    "name": "ipython",
    "version": 3
   },
   "file_extension": ".py",
   "mimetype": "text/x-python",
   "name": "python",
   "nbconvert_exporter": "python",
   "pygments_lexer": "ipython3",
   "version": "3.9.7"
  }
 },
 "nbformat": 4,
 "nbformat_minor": 5
}
